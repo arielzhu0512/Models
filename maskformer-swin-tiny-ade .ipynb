{
 "cells": [
  {
   "cell_type": "markdown",
   "id": "02efc7d8-3b58-4a66-97e9-b58fa741c15e",
   "metadata": {},
   "source": [
    "# `facebook/maskformer-swin-tiny-ade`"
   ]
  },
  {
   "cell_type": "markdown",
   "id": "6546f7f9-6b45-43e0-a366-6cb648709b7e",
   "metadata": {},
   "source": [
    "## Description\n",
    "MaskFormer addresses instance, semantic and panoptic segmentation with the same paradigm: by predicting a set of masks and corresponding labels. Hence, all 3 tasks are treated as if they were instance segmentation."
   ]
  },
  {
   "cell_type": "markdown",
   "id": "247ef76f-73ca-41b9-9703-af3cc4a7cda0",
   "metadata": {},
   "source": [
    "## Running environment\n",
    "- Custom Notebook image: `projects.registry.vmware.com/models/notebook/hf-inference-deploy@sha256:8c5960ce436881f37336b12556d7a661ea20e4dbfe9ac193516cf384daa51c19`\n",
    "- 1 CPU, 5G memory"
   ]
  },
  {
   "cell_type": "markdown",
   "id": "df7b2908-03d8-4e4f-83ac-e988b6c702cc",
   "metadata": {},
   "source": [
    "## Model inference"
   ]
  },
  {
   "cell_type": "markdown",
   "id": "1f507d2d-0c90-4348-bfbe-db578008821c",
   "metadata": {},
   "source": [
    "Import packages. *Note* that if you are using custom notebook image listed above, here you do not need to use `pip` to install any extra package."
   ]
  },
  {
   "cell_type": "code",
   "execution_count": 1,
   "id": "ac7ce234-20f4-4da2-8744-234dece1f854",
   "metadata": {},
   "outputs": [
    {
     "name": "stderr",
     "output_type": "stream",
     "text": [
      "/home/venv/lib/python3.9/site-packages/tqdm/auto.py:21: TqdmWarning: IProgress not found. Please update jupyter and ipywidgets. See https://ipywidgets.readthedocs.io/en/stable/user_install.html\n",
      "  from .autonotebook import tqdm as notebook_tqdm\n",
      "2023-06-27 09:39:17.896619: I tensorflow/core/platform/cpu_feature_guard.cc:182] This TensorFlow binary is optimized to use available CPU instructions in performance-critical operations.\n",
      "To enable the following instructions: AVX2 AVX512F FMA, in other operations, rebuild TensorFlow with the appropriate compiler flags.\n",
      "2023-06-27 09:39:18.777852: W tensorflow/compiler/tf2tensorrt/utils/py_utils.cc:38] TF-TRT Warning: Could not find TensorRT\n"
     ]
    }
   ],
   "source": [
    "from transformers import MaskFormerFeatureExtractor, MaskFormerForInstanceSegmentation\n",
    "from PIL import Image\n",
    "import requests\n",
    "\n",
    "import os\n",
    "os.environ['HTTP_PROXY'] = 'http://proxy.vmware.com:3128'\n",
    "os.environ['HTTPS_PROXY'] = 'http://proxy.vmware.com:3128'\n",
    "os.environ['CURL_CA_BUNDLE'] = ''"
   ]
  },
  {
   "cell_type": "markdown",
   "id": "07ff277b-ced2-425b-b1bd-ad0d4c9c3ef0",
   "metadata": {},
   "source": [
    "*Note: Use `os.environ` to avoid HTTPS proxy error.*"
   ]
  },
  {
   "cell_type": "markdown",
   "id": "cb76054c-b9c8-4493-a6cc-87fe8c2264fe",
   "metadata": {},
   "source": [
    "Open the image. And extract the feature from the image."
   ]
  },
  {
   "cell_type": "code",
   "execution_count": 2,
   "id": "21c2b181-03b9-4e04-9a9b-65b335349102",
   "metadata": {},
   "outputs": [
    {
     "name": "stderr",
     "output_type": "stream",
     "text": [
      "Downloading (…)rocessor_config.json: 100%|██████████| 380/380 [00:00<00:00, 37.6kB/s]\n",
      "/home/venv/lib/python3.9/site-packages/transformers/models/maskformer/feature_extraction_maskformer.py:28: FutureWarning: The class MaskFormerFeatureExtractor is deprecated and will be removed in version 5 of Transformers. Please use MaskFormerImageProcessor instead.\n",
      "  warnings.warn(\n",
      "/home/venv/lib/python3.9/site-packages/transformers/models/maskformer/image_processing_maskformer.py:401: FutureWarning: The `size_divisibility` argument is deprecated and will be removed in v4.27. Please use `size_divisor` instead.\n",
      "  warnings.warn(\n",
      "/home/venv/lib/python3.9/site-packages/transformers/models/maskformer/image_processing_maskformer.py:408: FutureWarning: The `max_size` argument is deprecated and will be removed in v4.27. Please use size['longest_edge'] instead.\n",
      "  warnings.warn(\n"
     ]
    }
   ],
   "source": [
    "url = \"https://huggingface.co/datasets/hf-internal-testing/fixtures_ade20k/resolve/main/ADE_val_00000001.jpg\"\n",
    "image = Image.open(requests.get(url, stream=True).raw)\n",
    "feature_extractor = MaskFormerFeatureExtractor.from_pretrained(\"facebook/maskformer-swin-tiny-ade\")\n",
    "inputs = feature_extractor(images=image, return_tensors=\"pt\")"
   ]
  },
  {
   "cell_type": "markdown",
   "id": "0675d66e-4ab6-4e4c-b64c-42c0d0146aa8",
   "metadata": {},
   "source": [
    "Get the pre-trained model. And use the extracted feature from above code cell as the input to the model inference."
   ]
  },
  {
   "cell_type": "code",
   "execution_count": 3,
   "id": "bdf9dd8b-3d7e-4f18-ab54-e48c16ada08f",
   "metadata": {},
   "outputs": [
    {
     "name": "stderr",
     "output_type": "stream",
     "text": [
      "Downloading (…)lve/main/config.json: 100%|██████████| 12.5k/12.5k [00:00<00:00, 4.50MB/s]\n",
      "Downloading pytorch_model.bin: 100%|██████████| 167M/167M [00:10<00:00, 16.0MB/s] \n"
     ]
    }
   ],
   "source": [
    "model = MaskFormerForInstanceSegmentation.from_pretrained(\"facebook/maskformer-swin-tiny-ade\")\n",
    "outputs = model(**inputs)\n",
    "# model predicts class_queries_logits of shape `(batch_size, num_queries)` and masks_queries_logits of shape `(batch_size, num_queries, height, width)`\n",
    "class_queries_logits = outputs.class_queries_logits\n",
    "masks_queries_logits = outputs.masks_queries_logits"
   ]
  },
  {
   "cell_type": "markdown",
   "id": "33ed0400-3397-445f-b47c-dcca7c86fe6c",
   "metadata": {},
   "source": [
    "Post-process the model inference result, and print the result"
   ]
  },
  {
   "cell_type": "code",
   "execution_count": 4,
   "id": "bbd2736f-59cd-4734-97e8-72b12f14850e",
   "metadata": {},
   "outputs": [],
   "source": [
    "predicted_semantic_map = feature_extractor.post_process_semantic_segmentation(outputs, target_sizes=[image.size[::-1]])[0]"
   ]
  },
  {
   "cell_type": "code",
   "execution_count": 5,
   "id": "093e9066-744a-44f5-8709-74da6b9e86e7",
   "metadata": {},
   "outputs": [
    {
     "data": {
      "text/plain": [
       "[512, 683]"
      ]
     },
     "execution_count": 5,
     "metadata": {},
     "output_type": "execute_result"
    }
   ],
   "source": [
    "list(predicted_semantic_map.shape)"
   ]
  }
 ],
 "metadata": {
  "kernelspec": {
   "display_name": "Python 3 (ipykernel)",
   "language": "python",
   "name": "python3"
  },
  "language_info": {
   "codemirror_mode": {
    "name": "ipython",
    "version": 3
   },
   "file_extension": ".py",
   "mimetype": "text/x-python",
   "name": "python",
   "nbconvert_exporter": "python",
   "pygments_lexer": "ipython3",
   "version": "3.9.16"
  }
 },
 "nbformat": 4,
 "nbformat_minor": 5
}
